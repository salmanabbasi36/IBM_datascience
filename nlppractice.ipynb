{
  "cells": [
    {
      "cell_type": "markdown",
      "metadata": {
        "id": "view-in-github",
        "colab_type": "text"
      },
      "source": [
        "<a href=\"https://colab.research.google.com/github/salmanabbasi36/IBM_datascience/blob/main/nlppractice.ipynb\" target=\"_parent\"><img src=\"https://colab.research.google.com/assets/colab-badge.svg\" alt=\"Open In Colab\"/></a>"
      ]
    },
    {
      "cell_type": "code",
      "execution_count": 1,
      "metadata": {
        "colab": {
          "base_uri": "https://localhost:8080/"
        },
        "id": "kgxhpqKvsme1",
        "outputId": "fba3ad22-b522-4de6-efa6-c75194e42007"
      },
      "outputs": [
        {
          "output_type": "stream",
          "name": "stdout",
          "text": [
            "Requirement already satisfied: cmake in /usr/local/lib/python3.11/dist-packages (3.31.6)\n"
          ]
        }
      ],
      "source": [
        "pip install cmake\n"
      ]
    },
    {
      "cell_type": "code",
      "execution_count": null,
      "metadata": {
        "colab": {
          "background_save": true,
          "base_uri": "https://localhost:8080/"
        },
        "id": "AmoK_-c4V0As",
        "outputId": "3a1bbdc8-20bb-43fa-c2e6-a922a5ab6740"
      },
      "outputs": [
        {
          "output_type": "stream",
          "name": "stdout",
          "text": [
            "Found existing installation: cmake 3.31.6\n",
            "Uninstalling cmake-3.31.6:\n",
            "  Would remove:\n",
            "    /usr/local/bin/ccmake\n",
            "    /usr/local/bin/cmake\n",
            "    /usr/local/bin/cpack\n",
            "    /usr/local/bin/ctest\n",
            "    /usr/local/lib/python3.11/dist-packages/cmake-3.31.6.dist-info/*\n",
            "    /usr/local/lib/python3.11/dist-packages/cmake/*\n",
            "Proceed (Y/n)? "
          ]
        }
      ],
      "source": [
        "pip uninstall cmake"
      ]
    },
    {
      "cell_type": "code",
      "execution_count": null,
      "metadata": {
        "id": "-EiaojRrw6Fu"
      },
      "outputs": [],
      "source": [
        "pip install nltk"
      ]
    },
    {
      "cell_type": "code",
      "execution_count": null,
      "metadata": {
        "id": "1Sy5f0Y6w7sA"
      },
      "outputs": [],
      "source": [
        "\n",
        "import nltk\n",
        "nltk.download()\n",
        "\n"
      ]
    },
    {
      "cell_type": "code",
      "execution_count": null,
      "metadata": {
        "id": "YnRrTxERw_aL"
      },
      "outputs": [],
      "source": [
        "import urllib.request\n",
        "response = urllib.request.urlopen('https://en.wikipedia.org/wiki/SpaceX')\n",
        "html = response.read()\n",
        "print(html)"
      ]
    },
    {
      "cell_type": "code",
      "execution_count": null,
      "metadata": {
        "id": "CmUI51bTGJTZ"
      },
      "outputs": [],
      "source": [
        "from bs4 import BeautifulSoup\n",
        "soup = BeautifulSoup(html, 'html5lib')\n",
        "text = soup.get_text(strip = True)\n",
        "print(text)"
      ]
    },
    {
      "cell_type": "code",
      "execution_count": null,
      "metadata": {
        "id": "549mQSYaI0R6"
      },
      "outputs": [],
      "source": [
        "tokens = [t for t in text.split()]\n",
        "print(tokens)"
      ]
    },
    {
      "cell_type": "code",
      "execution_count": null,
      "metadata": {
        "id": "n3nPqgMAJDv8"
      },
      "outputs": [],
      "source": [
        "from nltk.corpus import stopwords\n",
        "sr = stopwords.words('english')\n",
        "clean_tokens = tokens [:]\n",
        "for token in tokens:\n",
        "  if token in stopwords.words('english'):\n",
        "\n",
        "      clean_tokens.remove(token)\n",
        "\n",
        "freq = nltk.FreqDist(clean_tokens)\n",
        "for key,val in freq.items():\n",
        "  print(str(key) + ':' + str(val))\n",
        "\n",
        "freq.plot(10, cumulative = False)"
      ]
    },
    {
      "cell_type": "code",
      "execution_count": null,
      "metadata": {
        "id": "E65_kHOyKLjo"
      },
      "outputs": [],
      "source": []
    }
  ],
  "metadata": {
    "colab": {
      "provenance": [],
      "toc_visible": true,
      "authorship_tag": "ABX9TyOif1JO8rJGhxrJm3+Em1nM",
      "include_colab_link": true
    },
    "kernelspec": {
      "display_name": "Python 3",
      "name": "python3"
    },
    "language_info": {
      "name": "python"
    }
  },
  "nbformat": 4,
  "nbformat_minor": 0
}